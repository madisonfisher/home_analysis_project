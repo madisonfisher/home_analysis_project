{
 "cells": [
  {
   "cell_type": "code",
   "execution_count": 1,
   "metadata": {},
   "outputs": [],
   "source": [
    "import pandas as pd\n",
    "location_df = pd.read_csv('base_inventory_files/city_mean_pending_weekly_smooth_base.csv')\n",
    "location_df[\"LatLong\"] = \"\"\n",
    "location_df = location_df[[\"RegionName\", \"LatLong\"]]"
   ]
  },
  {
   "cell_type": "code",
   "execution_count": 2,
   "metadata": {},
   "outputs": [],
   "source": [
    "from opencage.geocoder import OpenCageGeocode\n",
    "key = \"1e04c83c5d654b9e9deb683356f0bc66\"\n",
    "geocoder = OpenCageGeocode(key)\n",
    "for index, row in location_df.iterrows():\n",
    "    query = location_df[\"RegionName\"][index]  \n",
    "    results = geocoder.geocode(query)\n",
    "    Latitude = results[0][\"geometry\"][\"lat\"]\n",
    "    Longitude = results[0][\"geometry\"][\"lng\"]\n",
    "    location_df[\"LatLong\"][index] = [Latitude,Longitude]"
   ]
  },
  {
   "cell_type": "code",
   "execution_count": null,
   "metadata": {},
   "outputs": [],
   "source": [
    "location_df.to_csv(\"latlong_cities.csv\")\n",
    "location_df.to_json(\"latlong_cities.json\")"
   ]
  }
 ],
 "metadata": {
  "kernelspec": {
   "display_name": "Python [conda env:PythonData] *",
   "language": "python",
   "name": "conda-env-PythonData-py"
  },
  "language_info": {
   "codemirror_mode": {
    "name": "ipython",
    "version": 3
   },
   "file_extension": ".py",
   "mimetype": "text/x-python",
   "name": "python",
   "nbconvert_exporter": "python",
   "pygments_lexer": "ipython3",
   "version": "3.6.10"
  }
 },
 "nbformat": 4,
 "nbformat_minor": 4
}
